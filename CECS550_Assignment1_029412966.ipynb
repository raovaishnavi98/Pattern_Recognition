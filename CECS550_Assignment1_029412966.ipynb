{
 "cells": [
  {
   "cell_type": "code",
   "execution_count": 1,
   "id": "c2cf92ce",
   "metadata": {},
   "outputs": [],
   "source": [
    "import numpy as np\n",
    "from numpy.linalg import eig"
   ]
  },
  {
   "cell_type": "code",
   "execution_count": 4,
   "id": "8957eddc",
   "metadata": {},
   "outputs": [
    {
     "name": "stdout",
     "output_type": "stream",
     "text": [
      "eigenvalue\n",
      " [-1. -2.] \n",
      "eigenvector\n",
      " [[0.9701425  0.9486833 ]\n",
      " [0.24253563 0.31622777]]\n"
     ]
    }
   ],
   "source": [
    "a = np.array([[2, -12], \n",
    "              [1, -5]])\n",
    "eigval, eigvec=eig(a)\n",
    "print('eigenvalue\\n', eigval, '\\neigenvector\\n', eigvec)"
   ]
  },
  {
   "cell_type": "code",
   "execution_count": null,
   "id": "a06d1b4a",
   "metadata": {},
   "outputs": [],
   "source": []
  }
 ],
 "metadata": {
  "kernelspec": {
   "display_name": "Python 3 (ipykernel)",
   "language": "python",
   "name": "python3"
  },
  "language_info": {
   "codemirror_mode": {
    "name": "ipython",
    "version": 3
   },
   "file_extension": ".py",
   "mimetype": "text/x-python",
   "name": "python",
   "nbconvert_exporter": "python",
   "pygments_lexer": "ipython3",
   "version": "3.9.7"
  }
 },
 "nbformat": 4,
 "nbformat_minor": 5
}
